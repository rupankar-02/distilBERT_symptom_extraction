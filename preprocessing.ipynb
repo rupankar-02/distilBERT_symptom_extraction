{
  "nbformat": 4,
  "nbformat_minor": 0,
  "metadata": {
    "colab": {
      "provenance": []
    },
    "kernelspec": {
      "name": "python3",
      "display_name": "Python 3"
    },
    "language_info": {
      "name": "python"
    }
  },
  "cells": [
    {
      "cell_type": "code",
      "source": [
        "df=pd.read_csv('/content/medical_symptom_dataset_1000.csv')"
      ],
      "metadata": {
        "id": "lNg0lfF0qXiV"
      },
      "execution_count": null,
      "outputs": []
    },
    {
      "cell_type": "code",
      "source": [
        "import re\n",
        "\n",
        "\n",
        "def preprocess_symptoms(symptom_str):\n",
        "    symptoms = re.findall(r\"'(.*?)'|\\\"(.*?)\\\"\", symptom_str)\n",
        "    symptoms = [s for sub in symptoms for s in sub if s]\n",
        "    return symptoms\n",
        "\n",
        "df['symptoms'] = df['symptoms'].apply(preprocess_symptoms)\n",
        "\n",
        "\n",
        "df.to_csv('cleaned_medical_symptoms.csv', index=False)\n",
        "print(\"Data has been saved as 'cleaned_medical_symptoms.csv'\")\n"
      ],
      "metadata": {
        "colab": {
          "base_uri": "https://localhost:8080/"
        },
        "id": "WTNWobl4qgjU",
        "outputId": "e7436ff9-a761-4931-fe8a-ef082e705e8c"
      },
      "execution_count": null,
      "outputs": [
        {
          "output_type": "stream",
          "name": "stdout",
          "text": [
            "Data has been saved as 'cleaned_medical_symptoms.csv'\n"
          ]
        }
      ]
    },
    {
      "cell_type": "code",
      "source": [
        "df.iloc[0,1]"
      ],
      "metadata": {
        "id": "7rF1nvseupAZ",
        "outputId": "5a2203e4-d634-492b-d461-c908f8ac74e8",
        "colab": {
          "base_uri": "https://localhost:8080/"
        }
      },
      "execution_count": null,
      "outputs": [
        {
          "output_type": "execute_result",
          "data": {
            "text/plain": [
              "['migraines headaches',\n",
              " \" can't sleep\",\n",
              " ' whole body shaking shivering',\n",
              " ' feel dizzy sometimes']"
            ]
          },
          "metadata": {},
          "execution_count": 21
        }
      ]
    },
    {
      "cell_type": "code",
      "source": [],
      "metadata": {
        "id": "VmjMLYPfur9_"
      },
      "execution_count": null,
      "outputs": []
    }
  ]
}